{
 "cells": [
  {
   "cell_type": "code",
   "execution_count": null,
   "metadata": {},
   "outputs": [],
   "source": [
    "%matplotlib inline\n",
    "import os\n",
    "import time\n",
    "import numpy as np\n",
    "from matplotlib import pyplot as plt\n",
    "import pandas as pd\n",
    "\n",
    "from caen_felib import lib, device, error\n",
    "\n",
    "# Get CAEN FELib path\n",
    "print(f'CAEN FELib found at: {lib.path} (version={lib.version})')"
   ]
  },
  {
   "cell_type": "code",
   "execution_count": null,
   "metadata": {},
   "outputs": [],
   "source": [
    "from lgdo import lh5, Table, Array, WaveformTable, ArrayOfEqualSizedArrays\n",
    "sto = lh5.LH5Store"
   ]
  },
  {
   "cell_type": "markdown",
   "metadata": {},
   "source": [
    "## Connect"
   ]
  },
  {
   "cell_type": "code",
   "execution_count": null,
   "metadata": {},
   "outputs": [],
   "source": [
    "dig = device.connect('dig2://caendgtz-usb-21233')\n",
    "print(f'Connected to digitizer (handle={hex(dig.handle)}, name={dig.name})')"
   ]
  },
  {
   "cell_type": "code",
   "execution_count": null,
   "metadata": {},
   "outputs": [],
   "source": [
    "# Reset\n",
    "dig.cmd.Reset()\n",
    "\n",
    "fw_type = dig.par.fwtype.value\n",
    "fw_ver = dig.par.fpga_fwver.value\n",
    "print(fw_type, fw_ver)\n",
    "\n",
    "adc_samplrate_msps = float(dig.par.adc_samplrate.value)  # in Msps\n",
    "adc_n_bits = int(dig.par.adc_nbit.value)\n",
    "sampling_period_ns = int(1e3 / adc_samplrate_msps)\n",
    "\n",
    "print(f\"Sampling rate = {adc_samplrate_msps} MHz, n. bit = {adc_n_bits}, Sampling period = {sampling_period_ns} ns\")\n",
    "\n",
    "# Configuration parameters\n",
    "nch = int(dig.par.NumCh.value)\n",
    "active_ch = 2\n",
    "reclen = 8000 #sample\n",
    "pretrg = 4000 #sample\n",
    "dc_offset = 10\n",
    "\n",
    "dig.par.iolevel.value = \"TTL\"\n",
    "dig.par.globaltriggersource.value = \"TrgIn\"\n",
    "\n",
    "# Set some channel parameters\n",
    "for i, ch in enumerate(dig.ch):\n",
    "    ch.par.chenable.value = \"TRUE\" if i < active_ch else \"FALSE\"  # Enable only channel 0\n",
    "    ch.par.eventtriggersource.value = \"GLOBALTRIGGERSOURCE\"\n",
    "    ch.par.wavetriggersource.value = \"GLOBALTRIGGERSOURCE\"\n",
    "    ch.par.chrecordlengths.value = f\"{reclen}\"\n",
    "    ch.par.chpretriggers.value = f\"{pretrg}\"\n",
    "    ch.par.waveanalogprobe0.value = \"ADCINPUT\"\n",
    "    ch.par.wavedigitalprobe0.value = \"TRIGGER\"\n",
    "    ch.par.wavedigitalprobe1.value = \"ADCSaturation\"\n",
    "    ch.par.dcoffset.value = f\"{dc_offset}\""
   ]
  },
  {
   "cell_type": "markdown",
   "metadata": {},
   "source": [
    "## Configure endpoint"
   ]
  },
  {
   "cell_type": "code",
   "execution_count": null,
   "metadata": {},
   "outputs": [],
   "source": [
    "data_format = [\n",
    "    {\n",
    "        'name': 'CHANNEL',\n",
    "        'type': 'U8',\n",
    "        'dim' : 0\n",
    "    },\n",
    "    {\n",
    "        'name': 'TIMESTAMP',\n",
    "        'type': 'U64',\n",
    "        'dim': 0,\n",
    "    },\n",
    "    {\n",
    "        'name': 'ENERGY',\n",
    "        'type': 'U16',\n",
    "        'dim': 0,\n",
    "    },\n",
    "    {\n",
    "        'name': 'ANALOG_PROBE_1',\n",
    "        'type': 'U16',\n",
    "        'dim': 1,\n",
    "        'shape': [reclen]\n",
    "    },\n",
    "    {\n",
    "        'name': 'ANALOG_PROBE_1_TYPE',\n",
    "        'type': 'I32',\n",
    "        'dim': 0\n",
    "    },\n",
    "    {\n",
    "        'name': 'DIGITAL_PROBE_1',\n",
    "        'type': 'U8',\n",
    "        'dim': 1,\n",
    "        'shape': [reclen]\n",
    "    },\n",
    "    {\n",
    "        'name': 'DIGITAL_PROBE_1_TYPE',\n",
    "        'type': 'I32',\n",
    "        'dim': 0\n",
    "    },\n",
    "    {\n",
    "        'name': 'DIGITAL_PROBE_2',\n",
    "        'type': 'U8',\n",
    "        'dim': 1,\n",
    "        'shape': [reclen]\n",
    "    },\n",
    "    {\n",
    "        'name': 'DIGITAL_PROBE_2_TYPE',\n",
    "        'type': 'I32',\n",
    "        'dim': 0\n",
    "    },\n",
    "    {\n",
    "        'name': 'WAVEFORM_SIZE',\n",
    "        'type': 'SIZE_T',\n",
    "        'dim': 0\n",
    "    }\n",
    "]"
   ]
  },
  {
   "cell_type": "code",
   "execution_count": null,
   "metadata": {},
   "outputs": [],
   "source": [
    "decoded_endpoint_path = \"dpppha\"\n",
    "endpoint = dig.endpoint[decoded_endpoint_path]\n",
    "data = endpoint.set_read_data_format(data_format)\n",
    "dig.endpoint.par.activeendpoint.value = decoded_endpoint_path\n",
    "\n",
    "channel = data[0].value\n",
    "ts = data[1].value\n",
    "energy = data[2].value\n",
    "analog_probe_1 = data[3].value\n",
    "analog_probe_1_type = data[4].value  # Integer value described in Supported Endpoints > Probe type meaning\n",
    "digital_probe_1 = data[5].value\n",
    "digital_probe_1_type = data[6].value  # Integer value described in Supported Endpoints > Probe type meaning\n",
    "digital_probe_2 = data[7].value\n",
    "digital_probe_2_type = data[8].value  # Integer value described in Supported Endpoints > Probe type meaning\n",
    "waveform_size = data[9].value"
   ]
  },
  {
   "cell_type": "code",
   "execution_count": null,
   "metadata": {},
   "outputs": [],
   "source": [
    "nev = 10\n",
    "timestamp = np.zeros((active_ch,nev),dtype=np.uint64)\n",
    "wfs = np.zeros((active_ch,nev,reclen),dtype=np.uint16)\n",
    "temp_names = [\"tempsensfirstadc\",\"tempsenshottestadc\",\"tempsenslastadc\",\"tempsensairin\",\"tempsensairout\",\"tempsenscore\",\"tempsensdcdc\"]\n",
    "temperatures = np.zeros((nev,len(temp_names)),dtype=float)"
   ]
  },
  {
   "cell_type": "code",
   "execution_count": null,
   "metadata": {},
   "outputs": [],
   "source": [
    "dig.cmd.armacquisition()\n",
    "dig.cmd.swstartacquisition()\n",
    "\n",
    "for i in range(nev*active_ch):\n",
    "    #dig.cmd.sendswtrigger()\n",
    "    try:\n",
    "        endpoint.read_data(-1, data)\n",
    "        wfs[channel,i//active_ch] = analog_probe_1\n",
    "        timestamp[channel,i//active_ch] = ts\n",
    "        for j, temp in enumerate(temp_names):\n",
    "            temp_value = float(dig.get_value(f\"/par/{temp}\"))\n",
    "            temperatures[i//active_ch][j] = temp_value\n",
    "    except error.Error as ex:\n",
    "        if ex.code == error.ErrorCode.TIMEOUT:\n",
    "            continue\n",
    "        if ex.code == error.ErrorCode.STOP:\n",
    "            break\n",
    "        else:\n",
    "            raise ex\n",
    "dig.cmd.disarmacquisition()"
   ]
  },
  {
   "cell_type": "code",
   "execution_count": null,
   "metadata": {},
   "outputs": [],
   "source": [
    "raw_data = lh5.read(\"ch1/raw\",f\"/home/dedeo/test_CAEN/data_V2740/20240730/prova_000.lh5\")\n",
    "wfs = raw_data.waveform.values.nda\n",
    "timestamp = raw_data.timestamp.nda\n",
    "#temp0 = raw_data.temp0.nda\n",
    "print(raw_data.keys())"
   ]
  },
  {
   "cell_type": "code",
   "execution_count": null,
   "metadata": {},
   "outputs": [],
   "source": [
    "fig, ax = plt.subplots(figsize=(12,6.75))\n",
    "for i in range(5):\n",
    "    ax.plot(wfs[i],label=f\"timestamp = {timestamp[i]}\")\n",
    "ax.legend()"
   ]
  },
  {
   "cell_type": "code",
   "execution_count": null,
   "metadata": {},
   "outputs": [],
   "source": [
    "fig, ax = plt.subplots(figsize=(12,6.75))\n",
    "#ax.plot(voltages,wf_max,\"b.\")\n",
    "pars = np.polyfit(voltages,wf_max,1)\n",
    "ax.plot(wf_max,wf_max-np.polyval(pars,voltages),\"b.\")\n",
    "ax.axhline(0,color=\"k\",ls=\":\")\n",
    "ax.set_ylabel(\"Residuals (LSB)\")\n",
    "ax.set_xlabel(\"ADC channels (LSB)\")"
   ]
  },
  {
   "cell_type": "code",
   "execution_count": null,
   "metadata": {},
   "outputs": [],
   "source": [
    "12 * 60 * 60"
   ]
  },
  {
   "cell_type": "code",
   "execution_count": null,
   "metadata": {},
   "outputs": [],
   "source": [
    "750*432"
   ]
  },
  {
   "cell_type": "code",
   "execution_count": null,
   "metadata": {},
   "outputs": [],
   "source": [
    "100000/60/60"
   ]
  },
  {
   "cell_type": "code",
   "execution_count": null,
   "metadata": {},
   "outputs": [],
   "source": []
  }
 ],
 "metadata": {
  "kernelspec": {
   "display_name": "Python 3 (ipykernel)",
   "language": "python",
   "name": "python3"
  },
  "language_info": {
   "codemirror_mode": {
    "name": "ipython",
    "version": 3
   },
   "file_extension": ".py",
   "mimetype": "text/x-python",
   "name": "python",
   "nbconvert_exporter": "python",
   "pygments_lexer": "ipython3",
   "version": "3.10.12"
  },
  "vscode": {
   "interpreter": {
    "hash": "d6e54f158f409b333c736c7c073324d99c61b65ef63026b9c6b60fce81fefce7"
   }
  }
 },
 "nbformat": 4,
 "nbformat_minor": 4
}
